{
 "cells": [
  {
   "cell_type": "code",
   "execution_count": null,
   "metadata": {},
   "outputs": [],
   "source": [
    "import math\n",
    "from lab1 import PIDSimulation, DELTA, show_value\n",
    "\n",
    "class PID:\n",
    "    def __init__(self, kp: float, kd: float, ki: float):\n",
    "        self.kp = kp\n",
    "        self.kd = kd\n",
    "        self.ki = ki\n",
    "        self.last_x = math.nan\n",
    "        self.integral = 0\n",
    "\n",
    "    def control(self, delta: float, x: float) -> float:\n",
    "        vx = (x - self.last_x) / delta\n",
    "        self.last_x = x\n",
    "        self.integral = min(max(self.integral + x * delta, -100), 100) # TODO: Better anti-windup\n",
    "        show_value('integral', self.integral)\n",
    "        return -x * self.kp - vx * self.kd - self.integral * self.ki\n",
    "\n",
    "# TODO: Move this into exercise1?\n",
    "# TODO: Get rid of explicit references to DELTA?\n",
    "def simulate(pid: PID, max_time: int, exercise):\n",
    "    sim = PIDSimulation(pid, exercise)\n",
    "    stable_time = 0\n",
    "    while sim.t < max_time:\n",
    "        sim.tick(DELTA)\n",
    "        if abs(sim.vx) <= 0.01 and abs(sim.x) <= 0.01:\n",
    "            stable_time += DELTA\n",
    "            if stable_time > 1.0:\n",
    "                return sim.t - stable_time\n",
    "        else:\n",
    "            stable_time = 0\n",
    "    return math.inf"
   ]
  },
  {
   "cell_type": "code",
   "execution_count": null,
   "metadata": {},
   "outputs": [],
   "source": [
    "import matplotlib.pyplot as plt\n",
    "import numpy as np\n",
    "\n",
    "x_axis = np.arange(0, 10, 0.01)\n",
    "plt.plot(x_axis, [simulate(PID(10, 5, x), max_time=30, exercise=2) for x in x_axis])\n",
    "plt.ylim(bottom=0);"
   ]
  },
  {
   "cell_type": "code",
   "execution_count": null,
   "metadata": {},
   "outputs": [],
   "source": [
    "import scipy.optimize\n",
    "\n",
    "def optimize(exercise):\n",
    "    func = lambda x: simulate(PID(*x), max_time=30, exercise=exercise)\n",
    "    bounds = [(0, 20), (0, 20), (0, 20)]\n",
    "    return scipy.optimize.differential_evolution(func, bounds=bounds)\n",
    "\n",
    "result = optimize(exercise=2)\n",
    "result"
   ]
  },
  {
   "cell_type": "code",
   "execution_count": null,
   "metadata": {},
   "outputs": [],
   "source": [
    "from lab1 import visualize\n",
    "\n",
    "visualize(PID(20, 10, 10), exercise=3)"
   ]
  }
 ],
 "metadata": {
  "kernelspec": {
   "display_name": "Python 3",
   "language": "python",
   "name": "python3"
  },
  "language_info": {
   "codemirror_mode": {
    "name": "ipython",
    "version": 3
   },
   "file_extension": ".py",
   "mimetype": "text/x-python",
   "name": "python",
   "nbconvert_exporter": "python",
   "pygments_lexer": "ipython3",
   "version": "3.10.11"
  }
 },
 "nbformat": 4,
 "nbformat_minor": 2
}
