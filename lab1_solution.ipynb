{
 "cells": [
  {
   "cell_type": "code",
   "execution_count": null,
   "metadata": {},
   "outputs": [],
   "source": [
    "import copy\n",
    "import math\n",
    "import matplotlib.pyplot as plt\n",
    "import numpy as np\n",
    "from lab1 import PIDSimulation, DELTA, show_value, get_exercise_params, plot_and_visualize, plot, visualize\n",
    "\n",
    "class PID:\n",
    "    def __init__(self, kp: float, kd: float, ki: float):\n",
    "        self.kp = kp\n",
    "        self.kd = kd\n",
    "        self.ki = ki\n",
    "        self.last_x = math.nan\n",
    "        self.integral = 0\n",
    "\n",
    "    def control(self, delta: float, x: float) -> float:\n",
    "        vx = (x - self.last_x) / delta\n",
    "        self.last_x = x\n",
    "        self.integral = min(max(self.integral + x * self.ki * delta, -100), 100) # TODO: Better anti-windup\n",
    "        show_value('integral', self.integral)\n",
    "        return -x * self.kp - vx * self.kd - self.integral\n",
    "\n",
    "# TODO: Move this into exercise1?\n",
    "# TODO: Get rid of explicit references to DELTA?\n",
    "def simulate(pid: PID, params, max_time: int):\n",
    "    sim = PIDSimulation(copy.deepcopy(pid), params)\n",
    "    stable_time = 0\n",
    "    while sim.t < max_time:\n",
    "        sim.tick(DELTA)\n",
    "        if abs(sim.vx) <= 0.01 and abs(sim.x) <= 0.01:\n",
    "            stable_time += DELTA\n",
    "            if stable_time > 1.0:\n",
    "                return sim.t - stable_time\n",
    "        else:\n",
    "            stable_time = 0\n",
    "    return math.inf"
   ]
  },
  {
   "cell_type": "code",
   "execution_count": null,
   "metadata": {},
   "outputs": [],
   "source": [
    "x_axis = np.arange(0, 10, 0.01)\n",
    "plt.figure('PID stabilization time')\n",
    "plt.plot(x_axis, [simulate(PID(10, 5, x), params=get_exercise_params(2), max_time=30) for x in x_axis])\n",
    "plt.ylim(bottom=0)\n",
    "plt.show()"
   ]
  },
  {
   "cell_type": "code",
   "execution_count": null,
   "metadata": {},
   "outputs": [],
   "source": [
    "import scipy.optimize\n",
    "\n",
    "def optimize(params):\n",
    "    func = lambda x: simulate(PID(*x), params, max_time=30)\n",
    "    bounds = [(0, 10), (0, 10), (0, 10)]\n",
    "    return scipy.optimize.differential_evolution(func, bounds=bounds)\n",
    "\n",
    "result = optimize(params=get_exercise_params(3))\n",
    "result"
   ]
  },
  {
   "cell_type": "code",
   "execution_count": null,
   "metadata": {},
   "outputs": [],
   "source": [
    "# %matplotlib inline\n",
    "plot_and_visualize(PID(10, 5, 7), get_exercise_params(2))"
   ]
  },
  {
   "cell_type": "code",
   "execution_count": null,
   "metadata": {},
   "outputs": [],
   "source": [
    "from ipywidgets import FloatSlider, Layout\n",
    "\n",
    "slider_layout = Layout(width='500px')\n",
    "kp=FloatSlider(1, min=0, max=10, layout=slider_layout)\n",
    "kd=FloatSlider(0, min=0, max=10, layout=slider_layout)\n",
    "ki=FloatSlider(0, min=0, max=10, layout=slider_layout)"
   ]
  },
  {
   "cell_type": "code",
   "execution_count": null,
   "metadata": {},
   "outputs": [],
   "source": [
    "%matplotlib widget\n",
    "\n",
    "from ipywidgets import interact\n",
    "\n",
    "# Figure that will be reused to plot the interactive graph\n",
    "figure = plt.figure('Interactive PID')\n",
    "\n",
    "params = get_exercise_params(3)\n",
    "def visualize_pid(kp, kd, ki):\n",
    "    pid = PID(kp, kd, ki)\n",
    "    # print(simulate(pid, params, max_time=30))\n",
    "    plot(pid, params, max_time=30, interactive_figure=figure)\n",
    "\n",
    "interact(visualize_pid, kp=kp,kd=kd, ki=ki)\n",
    "plt.show()\n",
    "print(plt.get_fignums())"
   ]
  }
 ],
 "metadata": {
  "kernelspec": {
   "display_name": "Python 3",
   "language": "python",
   "name": "python3"
  },
  "language_info": {
   "codemirror_mode": {
    "name": "ipython",
    "version": 3
   },
   "file_extension": ".py",
   "mimetype": "text/x-python",
   "name": "python",
   "nbconvert_exporter": "python",
   "pygments_lexer": "ipython3",
   "version": "3.10.11"
  }
 },
 "nbformat": 4,
 "nbformat_minor": 2
}
